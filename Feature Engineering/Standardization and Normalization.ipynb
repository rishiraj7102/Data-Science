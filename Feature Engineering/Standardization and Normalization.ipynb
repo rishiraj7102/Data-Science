{
 "cells": [
  {
   "cell_type": "code",
   "execution_count": 1,
   "metadata": {},
   "outputs": [],
   "source": [
    "import pandas as pd\n",
    "import numpy as np\n",
    "import matplotlib.pyplot as plt\n",
    "import seaborn as sns\n",
    "import scipy.stats as stat\n",
    "import pylab"
   ]
  },
  {
   "cell_type": "code",
   "execution_count": 2,
   "metadata": {},
   "outputs": [],
   "source": [
    "df=pd.read_csv(\"Datasets/titanic/titanic_train.csv\",usecols=['Pclass','Age','Fare','Survived'])"
   ]
  },
  {
   "cell_type": "code",
   "execution_count": 3,
   "metadata": {},
   "outputs": [
    {
     "data": {
      "text/html": [
       "<div>\n",
       "<style scoped>\n",
       "    .dataframe tbody tr th:only-of-type {\n",
       "        vertical-align: middle;\n",
       "    }\n",
       "\n",
       "    .dataframe tbody tr th {\n",
       "        vertical-align: top;\n",
       "    }\n",
       "\n",
       "    .dataframe thead th {\n",
       "        text-align: right;\n",
       "    }\n",
       "</style>\n",
       "<table border=\"1\" class=\"dataframe\">\n",
       "  <thead>\n",
       "    <tr style=\"text-align: right;\">\n",
       "      <th></th>\n",
       "      <th>Survived</th>\n",
       "      <th>Pclass</th>\n",
       "      <th>Age</th>\n",
       "      <th>Fare</th>\n",
       "    </tr>\n",
       "  </thead>\n",
       "  <tbody>\n",
       "    <tr>\n",
       "      <th>0</th>\n",
       "      <td>0</td>\n",
       "      <td>3</td>\n",
       "      <td>22.0</td>\n",
       "      <td>7.2500</td>\n",
       "    </tr>\n",
       "    <tr>\n",
       "      <th>1</th>\n",
       "      <td>1</td>\n",
       "      <td>1</td>\n",
       "      <td>38.0</td>\n",
       "      <td>71.2833</td>\n",
       "    </tr>\n",
       "    <tr>\n",
       "      <th>2</th>\n",
       "      <td>1</td>\n",
       "      <td>3</td>\n",
       "      <td>26.0</td>\n",
       "      <td>7.9250</td>\n",
       "    </tr>\n",
       "    <tr>\n",
       "      <th>3</th>\n",
       "      <td>1</td>\n",
       "      <td>1</td>\n",
       "      <td>35.0</td>\n",
       "      <td>53.1000</td>\n",
       "    </tr>\n",
       "    <tr>\n",
       "      <th>4</th>\n",
       "      <td>0</td>\n",
       "      <td>3</td>\n",
       "      <td>35.0</td>\n",
       "      <td>8.0500</td>\n",
       "    </tr>\n",
       "  </tbody>\n",
       "</table>\n",
       "</div>"
      ],
      "text/plain": [
       "   Survived  Pclass   Age     Fare\n",
       "0         0       3  22.0   7.2500\n",
       "1         1       1  38.0  71.2833\n",
       "2         1       3  26.0   7.9250\n",
       "3         1       1  35.0  53.1000\n",
       "4         0       3  35.0   8.0500"
      ]
     },
     "execution_count": 3,
     "metadata": {},
     "output_type": "execute_result"
    }
   ],
   "source": [
    "df.head()"
   ]
  },
  {
   "cell_type": "code",
   "execution_count": 4,
   "metadata": {},
   "outputs": [
    {
     "data": {
      "text/plain": [
       "Survived      0\n",
       "Pclass        0\n",
       "Age         177\n",
       "Fare          0\n",
       "dtype: int64"
      ]
     },
     "execution_count": 4,
     "metadata": {},
     "output_type": "execute_result"
    }
   ],
   "source": [
    "df.isnull().sum()"
   ]
  },
  {
   "cell_type": "code",
   "execution_count": 5,
   "metadata": {},
   "outputs": [],
   "source": [
    "df.Age.fillna(df.Age.median(),inplace=True)"
   ]
  },
  {
   "cell_type": "code",
   "execution_count": 6,
   "metadata": {},
   "outputs": [
    {
     "data": {
      "text/plain": [
       "Survived    0\n",
       "Pclass      0\n",
       "Age         0\n",
       "Fare        0\n",
       "dtype: int64"
      ]
     },
     "execution_count": 6,
     "metadata": {},
     "output_type": "execute_result"
    }
   ],
   "source": [
    "df.isnull().sum()"
   ]
  },
  {
   "cell_type": "markdown",
   "metadata": {},
   "source": [
    "# Standardization"
   ]
  },
  {
   "cell_type": "code",
   "execution_count": 7,
   "metadata": {},
   "outputs": [],
   "source": [
    "from sklearn.preprocessing import StandardScaler"
   ]
  },
  {
   "cell_type": "code",
   "execution_count": 8,
   "metadata": {},
   "outputs": [],
   "source": [
    "scaler=StandardScaler()"
   ]
  },
  {
   "cell_type": "code",
   "execution_count": 9,
   "metadata": {},
   "outputs": [],
   "source": [
    "df_scaled=scaler.fit_transform(df)"
   ]
  },
  {
   "cell_type": "code",
   "execution_count": 10,
   "metadata": {},
   "outputs": [],
   "source": [
    "df_scaled_df=pd.DataFrame(df_scaled)"
   ]
  },
  {
   "cell_type": "code",
   "execution_count": 11,
   "metadata": {},
   "outputs": [
    {
     "data": {
      "text/html": [
       "<div>\n",
       "<style scoped>\n",
       "    .dataframe tbody tr th:only-of-type {\n",
       "        vertical-align: middle;\n",
       "    }\n",
       "\n",
       "    .dataframe tbody tr th {\n",
       "        vertical-align: top;\n",
       "    }\n",
       "\n",
       "    .dataframe thead th {\n",
       "        text-align: right;\n",
       "    }\n",
       "</style>\n",
       "<table border=\"1\" class=\"dataframe\">\n",
       "  <thead>\n",
       "    <tr style=\"text-align: right;\">\n",
       "      <th></th>\n",
       "      <th>0</th>\n",
       "      <th>1</th>\n",
       "      <th>2</th>\n",
       "      <th>3</th>\n",
       "    </tr>\n",
       "  </thead>\n",
       "  <tbody>\n",
       "    <tr>\n",
       "      <th>0</th>\n",
       "      <td>-0.789272</td>\n",
       "      <td>0.827377</td>\n",
       "      <td>-0.565736</td>\n",
       "      <td>-0.502445</td>\n",
       "    </tr>\n",
       "    <tr>\n",
       "      <th>1</th>\n",
       "      <td>1.266990</td>\n",
       "      <td>-1.566107</td>\n",
       "      <td>0.663861</td>\n",
       "      <td>0.786845</td>\n",
       "    </tr>\n",
       "    <tr>\n",
       "      <th>2</th>\n",
       "      <td>1.266990</td>\n",
       "      <td>0.827377</td>\n",
       "      <td>-0.258337</td>\n",
       "      <td>-0.488854</td>\n",
       "    </tr>\n",
       "    <tr>\n",
       "      <th>3</th>\n",
       "      <td>1.266990</td>\n",
       "      <td>-1.566107</td>\n",
       "      <td>0.433312</td>\n",
       "      <td>0.420730</td>\n",
       "    </tr>\n",
       "    <tr>\n",
       "      <th>4</th>\n",
       "      <td>-0.789272</td>\n",
       "      <td>0.827377</td>\n",
       "      <td>0.433312</td>\n",
       "      <td>-0.486337</td>\n",
       "    </tr>\n",
       "  </tbody>\n",
       "</table>\n",
       "</div>"
      ],
      "text/plain": [
       "          0         1         2         3\n",
       "0 -0.789272  0.827377 -0.565736 -0.502445\n",
       "1  1.266990 -1.566107  0.663861  0.786845\n",
       "2  1.266990  0.827377 -0.258337 -0.488854\n",
       "3  1.266990 -1.566107  0.433312  0.420730\n",
       "4 -0.789272  0.827377  0.433312 -0.486337"
      ]
     },
     "execution_count": 11,
     "metadata": {},
     "output_type": "execute_result"
    }
   ],
   "source": [
    "df_scaled_df.head()"
   ]
  },
  {
   "cell_type": "code",
   "execution_count": 12,
   "metadata": {},
   "outputs": [
    {
     "data": {
      "text/plain": [
       "array([ 0.82737724, -1.56610693,  0.82737724, -1.56610693,  0.82737724,\n",
       "        0.82737724, -1.56610693,  0.82737724,  0.82737724, -0.36936484,\n",
       "        0.82737724, -1.56610693,  0.82737724,  0.82737724,  0.82737724,\n",
       "       -0.36936484,  0.82737724, -0.36936484,  0.82737724,  0.82737724,\n",
       "       -0.36936484, -0.36936484,  0.82737724, -1.56610693,  0.82737724,\n",
       "        0.82737724,  0.82737724, -1.56610693,  0.82737724,  0.82737724,\n",
       "       -1.56610693, -1.56610693,  0.82737724, -0.36936484, -1.56610693,\n",
       "       -1.56610693,  0.82737724,  0.82737724,  0.82737724,  0.82737724,\n",
       "        0.82737724, -0.36936484,  0.82737724, -0.36936484,  0.82737724,\n",
       "        0.82737724,  0.82737724,  0.82737724,  0.82737724,  0.82737724,\n",
       "        0.82737724,  0.82737724, -1.56610693, -0.36936484, -1.56610693,\n",
       "       -1.56610693, -0.36936484,  0.82737724, -0.36936484,  0.82737724,\n",
       "        0.82737724, -1.56610693, -1.56610693,  0.82737724, -1.56610693,\n",
       "        0.82737724, -0.36936484,  0.82737724,  0.82737724,  0.82737724,\n",
       "       -0.36936484,  0.82737724, -0.36936484,  0.82737724,  0.82737724,\n",
       "        0.82737724,  0.82737724,  0.82737724, -0.36936484,  0.82737724,\n",
       "        0.82737724,  0.82737724,  0.82737724, -1.56610693, -0.36936484,\n",
       "        0.82737724,  0.82737724,  0.82737724, -1.56610693,  0.82737724,\n",
       "        0.82737724,  0.82737724, -1.56610693,  0.82737724,  0.82737724,\n",
       "        0.82737724, -1.56610693, -1.56610693, -0.36936484, -0.36936484,\n",
       "        0.82737724,  0.82737724, -1.56610693,  0.82737724,  0.82737724,\n",
       "        0.82737724,  0.82737724,  0.82737724,  0.82737724,  0.82737724,\n",
       "       -1.56610693,  0.82737724,  0.82737724,  0.82737724,  0.82737724,\n",
       "        0.82737724,  0.82737724, -0.36936484, -1.56610693,  0.82737724,\n",
       "       -0.36936484,  0.82737724, -0.36936484, -0.36936484, -1.56610693,\n",
       "        0.82737724,  0.82737724,  0.82737724,  0.82737724,  0.82737724,\n",
       "        0.82737724,  0.82737724,  0.82737724, -0.36936484, -0.36936484,\n",
       "       -0.36936484, -1.56610693, -1.56610693,  0.82737724, -1.56610693,\n",
       "        0.82737724,  0.82737724,  0.82737724,  0.82737724, -0.36936484,\n",
       "       -0.36936484,  0.82737724,  0.82737724, -0.36936484, -0.36936484,\n",
       "       -0.36936484, -1.56610693,  0.82737724,  0.82737724,  0.82737724,\n",
       "       -1.56610693,  0.82737724,  0.82737724,  0.82737724,  0.82737724,\n",
       "        0.82737724, -0.36936484,  0.82737724,  0.82737724,  0.82737724,\n",
       "        0.82737724, -1.56610693,  0.82737724, -1.56610693,  0.82737724,\n",
       "       -1.56610693,  0.82737724,  0.82737724,  0.82737724, -1.56610693,\n",
       "        0.82737724,  0.82737724, -1.56610693, -0.36936484,  0.82737724,\n",
       "        0.82737724, -0.36936484,  0.82737724, -0.36936484,  0.82737724,\n",
       "       -1.56610693,  0.82737724, -1.56610693,  0.82737724,  0.82737724,\n",
       "       -0.36936484, -0.36936484,  0.82737724, -0.36936484, -1.56610693,\n",
       "       -1.56610693,  0.82737724,  0.82737724,  0.82737724, -0.36936484,\n",
       "        0.82737724,  0.82737724,  0.82737724,  0.82737724,  0.82737724,\n",
       "        0.82737724,  0.82737724,  0.82737724,  0.82737724, -1.56610693,\n",
       "        0.82737724, -0.36936484,  0.82737724, -0.36936484,  0.82737724,\n",
       "       -1.56610693,  0.82737724, -0.36936484, -1.56610693, -0.36936484,\n",
       "        0.82737724, -0.36936484,  0.82737724,  0.82737724, -1.56610693,\n",
       "        0.82737724, -0.36936484,  0.82737724, -0.36936484,  0.82737724,\n",
       "       -1.56610693,  0.82737724, -0.36936484,  0.82737724, -0.36936484,\n",
       "        0.82737724, -0.36936484, -0.36936484, -0.36936484, -0.36936484,\n",
       "        0.82737724,  0.82737724, -0.36936484,  0.82737724,  0.82737724,\n",
       "       -1.56610693,  0.82737724, -0.36936484, -1.56610693, -0.36936484,\n",
       "        0.82737724,  0.82737724, -1.56610693,  0.82737724,  0.82737724,\n",
       "        0.82737724, -1.56610693, -1.56610693, -1.56610693, -0.36936484,\n",
       "        0.82737724,  0.82737724, -1.56610693, -1.56610693,  0.82737724,\n",
       "       -0.36936484,  0.82737724,  0.82737724, -1.56610693, -1.56610693,\n",
       "       -1.56610693,  0.82737724, -0.36936484, -1.56610693,  0.82737724,\n",
       "       -1.56610693,  0.82737724, -0.36936484,  0.82737724,  0.82737724,\n",
       "        0.82737724,  0.82737724,  0.82737724,  0.82737724, -1.56610693,\n",
       "        0.82737724,  0.82737724,  0.82737724, -0.36936484,  0.82737724,\n",
       "       -1.56610693, -1.56610693, -0.36936484,  0.82737724,  0.82737724,\n",
       "       -1.56610693,  0.82737724, -1.56610693, -1.56610693, -1.56610693,\n",
       "        0.82737724,  0.82737724,  0.82737724, -0.36936484,  0.82737724,\n",
       "       -1.56610693, -1.56610693, -1.56610693, -0.36936484, -1.56610693,\n",
       "       -1.56610693, -1.56610693, -0.36936484,  0.82737724, -0.36936484,\n",
       "        0.82737724, -0.36936484, -0.36936484, -1.56610693, -1.56610693,\n",
       "        0.82737724,  0.82737724, -0.36936484, -0.36936484,  0.82737724,\n",
       "       -1.56610693,  0.82737724, -0.36936484,  0.82737724, -1.56610693,\n",
       "        0.82737724, -1.56610693, -1.56610693,  0.82737724, -1.56610693,\n",
       "        0.82737724, -1.56610693, -1.56610693,  0.82737724, -1.56610693,\n",
       "       -0.36936484, -1.56610693, -0.36936484, -0.36936484, -0.36936484,\n",
       "       -0.36936484, -0.36936484,  0.82737724,  0.82737724,  0.82737724,\n",
       "        0.82737724, -1.56610693,  0.82737724,  0.82737724,  0.82737724,\n",
       "        0.82737724, -1.56610693, -0.36936484,  0.82737724,  0.82737724,\n",
       "        0.82737724, -0.36936484,  0.82737724,  0.82737724,  0.82737724,\n",
       "        0.82737724, -1.56610693,  0.82737724,  0.82737724, -1.56610693,\n",
       "       -1.56610693,  0.82737724,  0.82737724, -1.56610693,  0.82737724,\n",
       "       -1.56610693,  0.82737724, -1.56610693,  0.82737724,  0.82737724,\n",
       "       -1.56610693,  0.82737724,  0.82737724, -1.56610693,  0.82737724,\n",
       "       -0.36936484,  0.82737724, -0.36936484,  0.82737724, -0.36936484,\n",
       "       -1.56610693,  0.82737724,  0.82737724, -1.56610693,  0.82737724,\n",
       "        0.82737724,  0.82737724, -0.36936484, -0.36936484, -0.36936484,\n",
       "        0.82737724,  0.82737724,  0.82737724,  0.82737724,  0.82737724,\n",
       "       -0.36936484,  0.82737724, -0.36936484,  0.82737724,  0.82737724,\n",
       "        0.82737724,  0.82737724, -1.56610693, -0.36936484,  0.82737724,\n",
       "        0.82737724, -0.36936484, -0.36936484, -0.36936484,  0.82737724,\n",
       "        0.82737724,  0.82737724,  0.82737724,  0.82737724,  0.82737724,\n",
       "        0.82737724, -0.36936484, -0.36936484,  0.82737724,  0.82737724,\n",
       "       -1.56610693,  0.82737724, -0.36936484,  0.82737724, -1.56610693,\n",
       "       -1.56610693,  0.82737724, -0.36936484, -1.56610693, -0.36936484,\n",
       "       -0.36936484,  0.82737724,  0.82737724, -0.36936484,  0.82737724,\n",
       "       -1.56610693, -0.36936484, -1.56610693,  0.82737724, -1.56610693,\n",
       "       -0.36936484,  0.82737724, -1.56610693, -1.56610693,  0.82737724,\n",
       "        0.82737724, -1.56610693, -1.56610693, -0.36936484,  0.82737724,\n",
       "       -1.56610693,  0.82737724, -1.56610693, -0.36936484,  0.82737724,\n",
       "        0.82737724, -0.36936484, -1.56610693,  0.82737724,  0.82737724,\n",
       "        0.82737724,  0.82737724, -0.36936484, -0.36936484,  0.82737724,\n",
       "       -1.56610693, -0.36936484,  0.82737724,  0.82737724,  0.82737724,\n",
       "        0.82737724, -0.36936484,  0.82737724,  0.82737724, -1.56610693,\n",
       "        0.82737724, -1.56610693, -1.56610693,  0.82737724,  0.82737724,\n",
       "        0.82737724,  0.82737724, -1.56610693, -1.56610693,  0.82737724,\n",
       "        0.82737724, -1.56610693,  0.82737724, -1.56610693,  0.82737724,\n",
       "        0.82737724,  0.82737724,  0.82737724,  0.82737724, -1.56610693,\n",
       "       -1.56610693, -0.36936484, -1.56610693,  0.82737724,  0.82737724,\n",
       "        0.82737724,  0.82737724, -1.56610693, -1.56610693,  0.82737724,\n",
       "       -1.56610693, -0.36936484,  0.82737724, -0.36936484,  0.82737724,\n",
       "       -1.56610693,  0.82737724,  0.82737724, -1.56610693,  0.82737724,\n",
       "        0.82737724, -0.36936484, -1.56610693,  0.82737724, -0.36936484,\n",
       "       -0.36936484,  0.82737724,  0.82737724,  0.82737724,  0.82737724,\n",
       "       -0.36936484, -1.56610693, -1.56610693,  0.82737724, -1.56610693,\n",
       "       -1.56610693,  0.82737724,  0.82737724, -0.36936484, -1.56610693,\n",
       "       -1.56610693, -0.36936484, -0.36936484,  0.82737724, -0.36936484,\n",
       "       -1.56610693, -0.36936484,  0.82737724,  0.82737724,  0.82737724,\n",
       "       -1.56610693, -1.56610693, -1.56610693, -1.56610693,  0.82737724,\n",
       "        0.82737724,  0.82737724, -0.36936484,  0.82737724,  0.82737724,\n",
       "        0.82737724,  0.82737724,  0.82737724,  0.82737724,  0.82737724,\n",
       "       -0.36936484, -1.56610693, -1.56610693,  0.82737724,  0.82737724,\n",
       "        0.82737724, -0.36936484, -1.56610693,  0.82737724,  0.82737724,\n",
       "       -0.36936484, -1.56610693, -0.36936484, -1.56610693,  0.82737724,\n",
       "       -1.56610693, -0.36936484, -1.56610693,  0.82737724,  0.82737724,\n",
       "        0.82737724, -1.56610693,  0.82737724,  0.82737724, -0.36936484,\n",
       "        0.82737724, -0.36936484,  0.82737724,  0.82737724, -1.56610693,\n",
       "       -0.36936484,  0.82737724, -1.56610693,  0.82737724, -1.56610693,\n",
       "        0.82737724,  0.82737724, -1.56610693, -0.36936484, -1.56610693,\n",
       "        0.82737724,  0.82737724,  0.82737724,  0.82737724,  0.82737724,\n",
       "       -0.36936484,  0.82737724,  0.82737724, -0.36936484, -0.36936484,\n",
       "        0.82737724, -1.56610693,  0.82737724,  0.82737724,  0.82737724,\n",
       "       -1.56610693, -0.36936484, -1.56610693,  0.82737724,  0.82737724,\n",
       "       -1.56610693,  0.82737724, -1.56610693, -1.56610693,  0.82737724,\n",
       "       -0.36936484,  0.82737724, -0.36936484,  0.82737724,  0.82737724,\n",
       "        0.82737724, -1.56610693,  0.82737724,  0.82737724,  0.82737724,\n",
       "       -1.56610693,  0.82737724, -1.56610693,  0.82737724,  0.82737724,\n",
       "        0.82737724, -0.36936484,  0.82737724,  0.82737724,  0.82737724,\n",
       "       -0.36936484,  0.82737724,  0.82737724, -0.36936484, -1.56610693,\n",
       "       -1.56610693,  0.82737724, -1.56610693,  0.82737724,  0.82737724,\n",
       "       -0.36936484, -0.36936484,  0.82737724,  0.82737724, -1.56610693,\n",
       "       -0.36936484, -1.56610693, -0.36936484, -0.36936484, -0.36936484,\n",
       "        0.82737724,  0.82737724,  0.82737724,  0.82737724, -1.56610693,\n",
       "        0.82737724, -1.56610693,  0.82737724,  0.82737724, -0.36936484,\n",
       "       -0.36936484,  0.82737724,  0.82737724,  0.82737724, -1.56610693,\n",
       "       -1.56610693,  0.82737724,  0.82737724,  0.82737724, -1.56610693,\n",
       "       -0.36936484,  0.82737724,  0.82737724, -1.56610693,  0.82737724,\n",
       "       -1.56610693, -1.56610693,  0.82737724,  0.82737724,  0.82737724,\n",
       "       -0.36936484, -0.36936484, -1.56610693, -1.56610693,  0.82737724,\n",
       "       -1.56610693, -1.56610693, -1.56610693,  0.82737724, -0.36936484,\n",
       "        0.82737724, -1.56610693, -0.36936484,  0.82737724,  0.82737724,\n",
       "       -0.36936484,  0.82737724, -0.36936484, -0.36936484, -1.56610693,\n",
       "        0.82737724, -0.36936484,  0.82737724, -0.36936484,  0.82737724,\n",
       "       -1.56610693,  0.82737724, -0.36936484, -0.36936484, -0.36936484,\n",
       "        0.82737724,  0.82737724, -1.56610693,  0.82737724,  0.82737724,\n",
       "       -1.56610693, -1.56610693, -1.56610693,  0.82737724,  0.82737724,\n",
       "       -1.56610693,  0.82737724, -0.36936484, -1.56610693,  0.82737724,\n",
       "       -0.36936484,  0.82737724,  0.82737724,  0.82737724, -0.36936484,\n",
       "       -0.36936484,  0.82737724, -0.36936484,  0.82737724, -1.56610693,\n",
       "        0.82737724,  0.82737724,  0.82737724, -1.56610693,  0.82737724,\n",
       "       -1.56610693, -1.56610693,  0.82737724,  0.82737724,  0.82737724,\n",
       "        0.82737724,  0.82737724, -0.36936484,  0.82737724, -0.36936484,\n",
       "        0.82737724,  0.82737724,  0.82737724,  0.82737724, -1.56610693,\n",
       "        0.82737724, -1.56610693, -1.56610693,  0.82737724,  0.82737724,\n",
       "        0.82737724,  0.82737724,  0.82737724,  0.82737724, -1.56610693,\n",
       "        0.82737724, -0.36936484,  0.82737724, -1.56610693,  0.82737724,\n",
       "       -0.36936484, -1.56610693,  0.82737724,  0.82737724,  0.82737724,\n",
       "       -0.36936484, -0.36936484, -1.56610693,  0.82737724,  0.82737724,\n",
       "        0.82737724, -1.56610693,  0.82737724, -0.36936484, -1.56610693,\n",
       "        0.82737724,  0.82737724, -0.36936484,  0.82737724,  0.82737724,\n",
       "       -1.56610693,  0.82737724, -0.36936484,  0.82737724,  0.82737724,\n",
       "       -1.56610693,  0.82737724, -1.56610693,  0.82737724,  0.82737724,\n",
       "        0.82737724,  0.82737724, -0.36936484,  0.82737724, -1.56610693,\n",
       "        0.82737724, -0.36936484,  0.82737724,  0.82737724,  0.82737724,\n",
       "       -1.56610693,  0.82737724,  0.82737724,  0.82737724, -1.56610693,\n",
       "        0.82737724, -0.36936484, -1.56610693,  0.82737724,  0.82737724,\n",
       "        0.82737724,  0.82737724,  0.82737724, -0.36936484, -1.56610693,\n",
       "        0.82737724,  0.82737724,  0.82737724, -1.56610693, -0.36936484,\n",
       "        0.82737724, -1.56610693, -1.56610693,  0.82737724,  0.82737724,\n",
       "        0.82737724, -0.36936484, -1.56610693,  0.82737724, -0.36936484,\n",
       "       -0.36936484, -0.36936484, -1.56610693,  0.82737724,  0.82737724,\n",
       "        0.82737724, -1.56610693, -1.56610693,  0.82737724, -0.36936484,\n",
       "        0.82737724,  0.82737724,  0.82737724,  0.82737724, -1.56610693,\n",
       "       -0.36936484,  0.82737724,  0.82737724, -0.36936484,  0.82737724,\n",
       "        0.82737724, -0.36936484, -1.56610693,  0.82737724, -1.56610693,\n",
       "        0.82737724])"
      ]
     },
     "execution_count": 12,
     "metadata": {},
     "output_type": "execute_result"
    }
   ],
   "source": [
    "df_scaled[:,1]"
   ]
  },
  {
   "cell_type": "code",
   "execution_count": 13,
   "metadata": {},
   "outputs": [
    {
     "data": {
      "text/plain": [
       "(array([216.,   0.,   0.,   0.,   0., 184.,   0.,   0.,   0., 491.]),\n",
       " array([-1.56610693, -1.32675851, -1.08741009, -0.84806167, -0.60871326,\n",
       "        -0.36936484, -0.13001642,  0.10933199,  0.34868041,  0.58802883,\n",
       "         0.82737724]),\n",
       " <BarContainer object of 10 artists>)"
      ]
     },
     "execution_count": 13,
     "metadata": {},
     "output_type": "execute_result"
    },
    {
     "data": {
      "image/png": "[encoded data removed]",
      "text/plain": [
       "<Figure size 432x288 with 1 Axes>"
      ]
     },
     "metadata": {
      "needs_background": "light"
     },
     "output_type": "display_data"
    }
   ],
   "source": [
    "plt.hist(df_scaled[:,1])"
   ]
  },
  {
   "cell_type": "code",
   "execution_count": 14,
   "metadata": {},
   "outputs": [
    {
     "data": {
      "text/plain": [
       "(array([ 54.,  46., 177., 346., 118.,  70.,  45.,  24.,   9.,   2.]),\n",
       " array([-2.22415608, -1.61258503, -1.00101397, -0.38944292,  0.22212813,\n",
       "         0.83369919,  1.44527024,  2.05684129,  2.66841235,  3.2799834 ,\n",
       "         3.89155445]),\n",
       " <BarContainer object of 10 artists>)"
      ]
     },
     "execution_count": 14,
     "metadata": {},
     "output_type": "execute_result"
    },
    {
     "data": {
      "image/png": "[encoded data removed]",
      "text/plain": [
       "<Figure size 432x288 with 1 Axes>"
      ]
     },
     "metadata": {
      "needs_background": "light"
     },
     "output_type": "display_data"
    }
   ],
   "source": [
    "plt.hist(df_scaled[:,2])"
   ]
  },
  {
   "cell_type": "code",
   "execution_count": 15,
   "metadata": {},
   "outputs": [
    {
     "data": {
      "text/plain": [
       "(array([732., 106.,  31.,   2.,  11.,   6.,   0.,   0.,   0.,   3.]),\n",
       " array([-0.64842165,  0.38313716,  1.41469598,  2.4462548 ,  3.47781362,\n",
       "         4.50937244,  5.54093125,  6.57249007,  7.60404889,  8.63560771,\n",
       "         9.66716653]),\n",
       " <BarContainer object of 10 artists>)"
      ]
     },
     "execution_count": 15,
     "metadata": {},
     "output_type": "execute_result"
    },
    {
     "data": {
      "image/png": "[encoded data removed]",
      "text/plain": [
       "<Figure size 432x288 with 1 Axes>"
      ]
     },
     "metadata": {
      "needs_background": "light"
     },
     "output_type": "display_data"
    }
   ],
   "source": [
    "plt.hist(df_scaled[:,3])"
   ]
  },
  {
   "cell_type": "code",
   "execution_count": 16,
   "metadata": {},
   "outputs": [
    {
     "data": {
      "text/plain": [
       "(array([549.,   0.,   0.,   0.,   0.,   0.,   0.,   0.,   0., 342.]),\n",
       " array([-0.78927234, -0.58364612, -0.37801991, -0.17239369,  0.03323252,\n",
       "         0.23885873,  0.44448495,  0.65011116,  0.85573737,  1.06136359,\n",
       "         1.2669898 ]),\n",
       " <BarContainer object of 10 artists>)"
      ]
     },
     "execution_count": 16,
     "metadata": {},
     "output_type": "execute_result"
    },
    {
     "data": {
      "image/png": "[encoded data removed]",
      "text/plain": [
       "<Figure size 432x288 with 1 Axes>"
      ]
     },
     "metadata": {
      "needs_background": "light"
     },
     "output_type": "display_data"
    }
   ],
   "source": [
    "plt.hist(df_scaled[:,0])"
   ]
  },
  {
   "cell_type": "markdown",
   "metadata": {},
   "source": [
    "# Min max scaler"
   ]
  },
  {
   "cell_type": "code",
   "execution_count": 17,
   "metadata": {},
   "outputs": [],
   "source": [
    "from sklearn.preprocessing import MinMaxScaler"
   ]
  },
  {
   "cell_type": "code",
   "execution_count": 18,
   "metadata": {},
   "outputs": [],
   "source": [
    "min_max=MinMaxScaler()"
   ]
  },
  {
   "cell_type": "code",
   "execution_count": 19,
   "metadata": {},
   "outputs": [],
   "source": [
    "df_minmax=pd.DataFrame(min_max.fit_transform(df),columns=df.columns)"
   ]
  },
  {
   "cell_type": "code",
   "execution_count": 20,
   "metadata": {},
   "outputs": [
    {
     "data": {
      "text/html": [
       "<div>\n",
       "<style scoped>\n",
       "    .dataframe tbody tr th:only-of-type {\n",
       "        vertical-align: middle;\n",
       "    }\n",
       "\n",
       "    .dataframe tbody tr th {\n",
       "        vertical-align: top;\n",
       "    }\n",
       "\n",
       "    .dataframe thead th {\n",
       "        text-align: right;\n",
       "    }\n",
       "</style>\n",
       "<table border=\"1\" class=\"dataframe\">\n",
       "  <thead>\n",
       "    <tr style=\"text-align: right;\">\n",
       "      <th></th>\n",
       "      <th>Survived</th>\n",
       "      <th>Pclass</th>\n",
       "      <th>Age</th>\n",
       "      <th>Fare</th>\n",
       "    </tr>\n",
       "  </thead>\n",
       "  <tbody>\n",
       "    <tr>\n",
       "      <th>0</th>\n",
       "      <td>0.0</td>\n",
       "      <td>1.0</td>\n",
       "      <td>0.271174</td>\n",
       "      <td>0.014151</td>\n",
       "    </tr>\n",
       "    <tr>\n",
       "      <th>1</th>\n",
       "      <td>1.0</td>\n",
       "      <td>0.0</td>\n",
       "      <td>0.472229</td>\n",
       "      <td>0.139136</td>\n",
       "    </tr>\n",
       "    <tr>\n",
       "      <th>2</th>\n",
       "      <td>1.0</td>\n",
       "      <td>1.0</td>\n",
       "      <td>0.321438</td>\n",
       "      <td>0.015469</td>\n",
       "    </tr>\n",
       "    <tr>\n",
       "      <th>3</th>\n",
       "      <td>1.0</td>\n",
       "      <td>0.0</td>\n",
       "      <td>0.434531</td>\n",
       "      <td>0.103644</td>\n",
       "    </tr>\n",
       "    <tr>\n",
       "      <th>4</th>\n",
       "      <td>0.0</td>\n",
       "      <td>1.0</td>\n",
       "      <td>0.434531</td>\n",
       "      <td>0.015713</td>\n",
       "    </tr>\n",
       "  </tbody>\n",
       "</table>\n",
       "</div>"
      ],
      "text/plain": [
       "   Survived  Pclass       Age      Fare\n",
       "0       0.0     1.0  0.271174  0.014151\n",
       "1       1.0     0.0  0.472229  0.139136\n",
       "2       1.0     1.0  0.321438  0.015469\n",
       "3       1.0     0.0  0.434531  0.103644\n",
       "4       0.0     1.0  0.434531  0.015713"
      ]
     },
     "execution_count": 20,
     "metadata": {},
     "output_type": "execute_result"
    }
   ],
   "source": [
    "df_minmax.head()"
   ]
  },
  {
   "cell_type": "markdown",
   "metadata": {},
   "source": [
    "# Robust Scaler"
   ]
  },
  {
   "cell_type": "code",
   "execution_count": 21,
   "metadata": {},
   "outputs": [],
   "source": [
    "from sklearn.preprocessing import RobustScaler"
   ]
  },
  {
   "cell_type": "code",
   "execution_count": 22,
   "metadata": {},
   "outputs": [],
   "source": [
    "scaler=RobustScaler()"
   ]
  },
  {
   "cell_type": "code",
   "execution_count": 23,
   "metadata": {},
   "outputs": [],
   "source": [
    "df_robustScaler=scaler.fit_transform(df)"
   ]
  },
  {
   "cell_type": "code",
   "execution_count": 24,
   "metadata": {},
   "outputs": [
    {
     "data": {
      "text/plain": [
       "array([[ 0.        ,  0.        , -0.46153846, -0.3120106 ],\n",
       "       [ 1.        , -2.        ,  0.76923077,  2.46124229],\n",
       "       [ 1.        ,  0.        , -0.15384615, -0.28277666],\n",
       "       ...,\n",
       "       [ 0.        ,  0.        ,  0.        ,  0.38960398],\n",
       "       [ 1.        , -2.        , -0.15384615,  0.67328148],\n",
       "       [ 0.        ,  0.        ,  0.30769231, -0.29035583]])"
      ]
     },
     "execution_count": 24,
     "metadata": {},
     "output_type": "execute_result"
    }
   ],
   "source": [
    "df_robustScaler"
   ]
  },
  {
   "cell_type": "code",
   "execution_count": 25,
   "metadata": {},
   "outputs": [
    {
     "data": {
      "image/png": "[encoded data removed]",
      "text/plain": [
       "<Figure size 432x288 with 1 Axes>"
      ]
     },
     "metadata": {
      "needs_background": "light"
     },
     "output_type": "display_data"
    },
    {
     "data": {
      "image/png": "[encoded data removed]",
      "text/plain": [
       "<Figure size 432x288 with 1 Axes>"
      ]
     },
     "metadata": {
      "needs_background": "light"
     },
     "output_type": "display_data"
    },
    {
     "data": {
      "image/png": "[encoded data removed]",
      "text/plain": [
       "<Figure size 432x288 with 1 Axes>"
      ]
     },
     "metadata": {
      "needs_background": "light"
     },
     "output_type": "display_data"
    },
    {
     "data": {
      "image/png": "[encoded data removed]",
      "text/plain": [
       "<Figure size 432x288 with 1 Axes>"
      ]
     },
     "metadata": {
      "needs_background": "light"
     },
     "output_type": "display_data"
    }
   ],
   "source": [
    "plt.hist(df_robustScaler[:,0])\n",
    "plt.show()\n",
    "plt.hist(df_robustScaler[:,1])\n",
    "plt.show()\n",
    "plt.hist(df_robustScaler[:,2])\n",
    "plt.show()\n",
    "plt.hist(df_robustScaler[:,3])\n",
    "plt.show()"
   ]
  },
  {
   "cell_type": "markdown",
   "metadata": {},
   "source": [
    "# Gaussian Transformation"
   ]
  },
  {
   "cell_type": "code",
   "execution_count": 26,
   "metadata": {},
   "outputs": [],
   "source": [
    "df=df.drop(\"Pclass\",axis=1)"
   ]
  },
  {
   "cell_type": "code",
   "execution_count": 27,
   "metadata": {},
   "outputs": [
    {
     "data": {
      "text/html": [
       "<div>\n",
       "<style scoped>\n",
       "    .dataframe tbody tr th:only-of-type {\n",
       "        vertical-align: middle;\n",
       "    }\n",
       "\n",
       "    .dataframe tbody tr th {\n",
       "        vertical-align: top;\n",
       "    }\n",
       "\n",
       "    .dataframe thead th {\n",
       "        text-align: right;\n",
       "    }\n",
       "</style>\n",
       "<table border=\"1\" class=\"dataframe\">\n",
       "  <thead>\n",
       "    <tr style=\"text-align: right;\">\n",
       "      <th></th>\n",
       "      <th>Survived</th>\n",
       "      <th>Age</th>\n",
       "      <th>Fare</th>\n",
       "    </tr>\n",
       "  </thead>\n",
       "  <tbody>\n",
       "    <tr>\n",
       "      <th>0</th>\n",
       "      <td>0</td>\n",
       "      <td>22.0</td>\n",
       "      <td>7.2500</td>\n",
       "    </tr>\n",
       "    <tr>\n",
       "      <th>1</th>\n",
       "      <td>1</td>\n",
       "      <td>38.0</td>\n",
       "      <td>71.2833</td>\n",
       "    </tr>\n",
       "    <tr>\n",
       "      <th>2</th>\n",
       "      <td>1</td>\n",
       "      <td>26.0</td>\n",
       "      <td>7.9250</td>\n",
       "    </tr>\n",
       "    <tr>\n",
       "      <th>3</th>\n",
       "      <td>1</td>\n",
       "      <td>35.0</td>\n",
       "      <td>53.1000</td>\n",
       "    </tr>\n",
       "    <tr>\n",
       "      <th>4</th>\n",
       "      <td>0</td>\n",
       "      <td>35.0</td>\n",
       "      <td>8.0500</td>\n",
       "    </tr>\n",
       "  </tbody>\n",
       "</table>\n",
       "</div>"
      ],
      "text/plain": [
       "   Survived   Age     Fare\n",
       "0         0  22.0   7.2500\n",
       "1         1  38.0  71.2833\n",
       "2         1  26.0   7.9250\n",
       "3         1  35.0  53.1000\n",
       "4         0  35.0   8.0500"
      ]
     },
     "execution_count": 27,
     "metadata": {},
     "output_type": "execute_result"
    }
   ],
   "source": [
    "df.head()"
   ]
  },
  {
   "cell_type": "code",
   "execution_count": 28,
   "metadata": {},
   "outputs": [],
   "source": [
    "df['Age']=df['Age'].fillna(df.Age.median())"
   ]
  },
  {
   "cell_type": "code",
   "execution_count": 29,
   "metadata": {},
   "outputs": [
    {
     "data": {
      "text/plain": [
       "Survived    0\n",
       "Age         0\n",
       "Fare        0\n",
       "dtype: int64"
      ]
     },
     "execution_count": 29,
     "metadata": {},
     "output_type": "execute_result"
    }
   ],
   "source": [
    "df.isnull().sum()"
   ]
  },
  {
   "cell_type": "code",
   "execution_count": 30,
   "metadata": {},
   "outputs": [],
   "source": [
    "## QQ PLOT TO CHECK IF THE DISTRIBUTION IS GAUSSIAN\n",
    "def plot_data(df,feature):\n",
    "    plt.figure(figsize=(10,6))\n",
    "    plt.subplot(1,2,1)\n",
    "    df[feature].hist()\n",
    "    plt.subplot(1,2,2)\n",
    "    stat.probplot(df[feature],plot=pylab)"
   ]
  },
  {
   "cell_type": "code",
   "execution_count": 31,
   "metadata": {},
   "outputs": [
    {
     "data": {
      "image/png": "[encoded data removed]",
      "text/plain": [
       "<Figure size 720x432 with 2 Axes>"
      ]
     },
     "metadata": {
      "needs_background": "light"
     },
     "output_type": "display_data"
    }
   ],
   "source": [
    "plot_data(df,'Age')"
   ]
  },
  {
   "cell_type": "markdown",
   "metadata": {},
   "source": [
    "###### In the second graph if the points fall on the line the distribution is Gaussian"
   ]
  },
  {
   "cell_type": "markdown",
   "metadata": {},
   "source": [
    "#### LOG TRANS"
   ]
  },
  {
   "cell_type": "code",
   "execution_count": 32,
   "metadata": {},
   "outputs": [
    {
     "data": {
      "image/png": "[encoded data removed]",
      "text/plain": [
       "<Figure size 720x432 with 2 Axes>"
      ]
     },
     "metadata": {
      "needs_background": "light"
     },
     "output_type": "display_data"
    }
   ],
   "source": [
    "df['Age_log']=np.log(df.Age)\n",
    "plot_data(df,\"Age_log\")"
   ]
  },
  {
   "cell_type": "markdown",
   "metadata": {},
   "source": [
    "#### RECIPROCAL TRANS"
   ]
  },
  {
   "cell_type": "code",
   "execution_count": 34,
   "metadata": {},
   "outputs": [
    {
     "data": {
      "image/png": "[encoded data removed]",
      "text/plain": [
       "<Figure size 720x432 with 2 Axes>"
      ]
     },
     "metadata": {
      "needs_background": "light"
     },
     "output_type": "display_data"
    }
   ],
   "source": [
    "df[\"Age_reciprocal\"]=1/df.Age\n",
    "plot_data(df,\"Age_reciprocal\")"
   ]
  },
  {
   "cell_type": "markdown",
   "metadata": {},
   "source": [
    "#### Square root trans"
   ]
  },
  {
   "cell_type": "code",
   "execution_count": 35,
   "metadata": {},
   "outputs": [
    {
     "data": {
      "image/png": "[encoded data removed]",
      "text/plain": [
       "<Figure size 720x432 with 2 Axes>"
      ]
     },
     "metadata": {
      "needs_background": "light"
     },
     "output_type": "display_data"
    }
   ],
   "source": [
    "df['Age_squareroot']=df.Age**(1/2)\n",
    "plot_data(df,\"Age_squareroot\")"
   ]
  },
  {
   "cell_type": "markdown",
   "metadata": {},
   "source": [
    "#### Exponential Trans"
   ]
  },
  {
   "cell_type": "code",
   "execution_count": 37,
   "metadata": {},
   "outputs": [
    {
     "data": {
      "image/png": "[encoded data removed]",
      "text/plain": [
       "<Figure size 720x432 with 2 Axes>"
      ]
     },
     "metadata": {
      "needs_background": "light"
     },
     "output_type": "display_data"
    }
   ],
   "source": [
    "df['Age_exponetial']=df.Age*np.e\n",
    "plot_data(df,\"Age_exponetial\")"
   ]
  },
  {
   "cell_type": "markdown",
   "metadata": {},
   "source": [
    "# BoxCox Trans"
   ]
  },
  {
   "cell_type": "code",
   "execution_count": 38,
   "metadata": {},
   "outputs": [],
   "source": [
    "df[\"Age_boxcox\"],parameters=stat.boxcox(df.Age)"
   ]
  },
  {
   "cell_type": "code",
   "execution_count": 41,
   "metadata": {},
   "outputs": [
    {
     "data": {
      "image/png": "[encoded data removed]",
      "text/plain": [
       "<Figure size 720x432 with 2 Axes>"
      ]
     },
     "metadata": {
      "needs_background": "light"
     },
     "output_type": "display_data"
    }
   ],
   "source": [
    "plot_data(df,'Age_boxcox')"
   ]
  },
  {
   "cell_type": "code",
   "execution_count": null,
   "metadata": {},
   "outputs": [],
   "source": []
  },
  {
   "cell_type": "code",
   "execution_count": null,
   "metadata": {},
   "outputs": [],
   "source": []
  },
  {
   "cell_type": "code",
   "execution_count": null,
   "metadata": {},
   "outputs": [],
   "source": []
  },
  {
   "cell_type": "code",
   "execution_count": null,
   "metadata": {},
   "outputs": [],
   "source": []
  },
  {
   "cell_type": "code",
   "execution_count": null,
   "metadata": {},
   "outputs": [],
   "source": []
  }
 ],
 "metadata": {
  "kernelspec": {
   "display_name": "Python 3",
   "language": "python",
   "name": "python3"
  },
  "language_info": {
   "codemirror_mode": {
    "name": "ipython",
    "version": 3
   },
   "file_extension": ".py",
   "mimetype": "text/x-python",
   "name": "python",
   "nbconvert_exporter": "python",
   "pygments_lexer": "ipython3",
   "version": "3.8.3"
  }
 },
 "nbformat": 4,
 "nbformat_minor": 4
}
